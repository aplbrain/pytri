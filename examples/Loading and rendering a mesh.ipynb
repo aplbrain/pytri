{
 "cells": [
  {
   "cell_type": "code",
   "execution_count": 1,
   "id": "arctic-approval",
   "metadata": {},
   "outputs": [],
   "source": [
    "import pytri\n",
    "import numpy as np"
   ]
  },
  {
   "cell_type": "code",
   "execution_count": null,
   "id": "stuck-ensemble",
   "metadata": {},
   "outputs": [],
   "source": [
    "fig = pytri.Figure()\n",
    "mesh = fig.mesh('data/example_neuron_mesh.obj')\n",
    "fig.recenter_camera(mesh)\n",
    "fig.show()"
   ]
  }
 ],
 "metadata": {
  "kernelspec": {
   "display_name": "python",
   "language": "python",
   "name": "python"
  },
  "language_info": {
   "codemirror_mode": {
    "name": "ipython",
    "version": 3
   },
   "file_extension": ".py",
   "mimetype": "text/x-python",
   "name": "python",
   "nbconvert_exporter": "python",
   "pygments_lexer": "ipython3",
   "version": "3.7.3"
  }
 },
 "nbformat": 4,
 "nbformat_minor": 5
}
