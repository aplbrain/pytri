{
 "cells": [
  {
   "cell_type": "code",
   "execution_count": null,
   "id": "composed-governor",
   "metadata": {},
   "outputs": [],
   "source": [
    "import pytri\n",
    "import numpy as np"
   ]
  },
  {
   "cell_type": "code",
   "execution_count": null,
   "id": "working-division",
   "metadata": {},
   "outputs": [],
   "source": [
    "fig = pytri.Figure()\n",
    "im = fig.imshow(np.random.rand(100,100))\n",
    "im.on_click = lambda picker: f\"beep @ {picker.point}\"\n",
    "fig.show()"
   ]
  },
  {
   "cell_type": "code",
   "execution_count": null,
   "id": "ambient-quarter",
   "metadata": {},
   "outputs": [],
   "source": [
    "np.random.rand(100,100,100).shape"
   ]
  },
  {
   "cell_type": "code",
   "execution_count": null,
   "id": "prerequisite-johnson",
   "metadata": {},
   "outputs": [],
   "source": [
    "fig = pytri.Figure()\n",
    "x,y,z = np.random.rand(100),np.random.rand(100),np.random.rand(100)\n",
    "im = fig.scatter(x,y,z)\n",
    "im.on_click = lambda picker: f\"beep @ {picker.point}\"\n",
    "fig.show()"
   ]
  }
 ],
 "metadata": {
  "kernelspec": {
   "display_name": "python",
   "language": "python",
   "name": "python"
  },
  "language_info": {
   "codemirror_mode": {
    "name": "ipython",
    "version": 3
   },
   "file_extension": ".py",
   "mimetype": "text/x-python",
   "name": "python",
   "nbconvert_exporter": "python",
   "pygments_lexer": "ipython3",
   "version": "3.7.3"
  }
 },
 "nbformat": 4,
 "nbformat_minor": 5
}
