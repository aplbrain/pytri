{
 "cells": [
  {
   "cell_type": "code",
   "execution_count": null,
   "metadata": {},
   "outputs": [],
   "source": [
    "from pytri import pytri\n",
    "from matplotlib import pyplot as plt\n",
    "import numpy as np\n",
    "import networkx as nx\n",
    "import random"
   ]
  },
  {
   "cell_type": "code",
   "execution_count": null,
   "metadata": {},
   "outputs": [],
   "source": [
    "def gen_hubs(graph, num_hubs):\n",
    "    for i in range(num_hubs):\n",
    "        pos = {'x': random.randint(-500, 500), 'y': random.randint(-500, 500), 'z': random.randint(-500, 500)}\n",
    "        graph.add_node(i, pos=pos)\n",
    "    return graph\n",
    "\n",
    "def gen_leafs(graph, num_hub, hub, num_leafs):\n",
    "    hpos = hub[1]\n",
    "    for i in range(num_leafs):\n",
    "        lid  = num_hub + i\n",
    "        pos = {'x': random.randint(hpos['pos']['x'] - 100, hpos['pos']['x'] + 100),\n",
    "               'y': random.randint(hpos['pos']['y'] - 100, hpos['pos']['y'] + 100),\n",
    "               'z':random.randint(hpos['pos']['z'] - 100, hpos['pos']['z'] + 100)}\n",
    "        graph.add_node(lid, pos=pos)\n",
    "        graph.add_edge(hub[0], lid)\n",
    "    return graph\n",
    "\n",
    "\n",
    "def gen_hub_connections(graph, hub_list, num_connections):\n",
    "    for i in range(num_connections):\n",
    "        old_ec = graph.number_of_edges()\n",
    "        h1 = random.choice(hub_list)\n",
    "        h2 = random.choice(hub_list)\n",
    "        while h1 == h2:\n",
    "            h2 = random.choice(hub_list)\n",
    "        hid1 = h1[0]\n",
    "        hid2 = h2[0]\n",
    "        graph.add_edge(hid1, hid2)\n",
    "        tries = 0\n",
    "        while old_ec == graph.number_of_edges() and tries < 5:\n",
    "            h2 = random.choice(hub_list)\n",
    "            graph.add_edge(h1[0], h2[0])\n",
    "            tries += 1\n",
    "    return graph"
   ]
  },
  {
   "cell_type": "code",
   "execution_count": null,
   "metadata": {},
   "outputs": [],
   "source": [
    "G = nx.Graph()\n",
    "hubs = 10\n",
    "G = gen_hubs(G, hubs)\n",
    "hub_list = G.nodes(True)\n",
    "for i in range(hubs):\n",
    "    leafs = random.randint(25, 50)\n",
    "    hub = hub_list[i]\n",
    "    G = gen_leafs(G, hubs, hub, leafs)\n",
    "hub_conn = 12\n",
    "G = gen_hub_connections(G, hub_list, hub_conn)"
   ]
  },
  {
   "cell_type": "code",
   "execution_count": null,
   "metadata": {},
   "outputs": [],
   "source": [
    "gviz = pytri()\n",
    "gviz.graph(G)"
   ]
  },
  {
   "cell_type": "code",
   "execution_count": null,
   "metadata": {
    "scrolled": false
   },
   "outputs": [],
   "source": [
    "gviz.show()"
   ]
  },
  {
   "cell_type": "code",
   "execution_count": null,
   "metadata": {},
   "outputs": [],
   "source": [
    "nx.draw(G)\n",
    "plt.show()"
   ]
  },
  {
   "cell_type": "code",
   "execution_count": null,
   "metadata": {},
   "outputs": [],
   "source": [
    "graph2 = nx.Graph()\n",
    "graph2.add_node(0, pos=(10, 4, 2))\n",
    "graph2.add_node(1, pos=(-4, -2, 10))\n",
    "graph2.add_node(2, pos=(5, -6, 1))\n",
    "graph2.add_edge(0, 1)\n",
    "graph2.add_edge(1, 2)"
   ]
  },
  {
   "cell_type": "code",
   "execution_count": null,
   "metadata": {},
   "outputs": [],
   "source": [
    "g2 = pytri()\n",
    "g2.graph(graph2)"
   ]
  },
  {
   "cell_type": "code",
   "execution_count": null,
   "metadata": {},
   "outputs": [],
   "source": [
    "g2.show()\n"
   ]
  },
  {
   "cell_type": "code",
   "execution_count": null,
   "metadata": {},
   "outputs": [],
   "source": []
  }
 ],
 "metadata": {
  "kernelspec": {
   "display_name": "Python 3",
   "language": "python",
   "name": "python3"
  },
  "language_info": {
   "codemirror_mode": {
    "name": "ipython",
    "version": 3
   },
   "file_extension": ".py",
   "mimetype": "text/x-python",
   "name": "python",
   "nbconvert_exporter": "python",
   "pygments_lexer": "ipython3",
   "version": "3.6.2"
  }
 },
 "nbformat": 4,
 "nbformat_minor": 2
}
